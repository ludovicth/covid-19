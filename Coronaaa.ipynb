{
 "cells": [
  {
   "cell_type": "code",
   "execution_count": 24,
   "metadata": {},
   "outputs": [],
   "source": [
    "import matplotlib.pyplot as plt\n",
    "%matplotlib inline"
   ]
  },
  {
   "cell_type": "code",
   "execution_count": 65,
   "metadata": {},
   "outputs": [],
   "source": [
    "P_CONTAGION = 0.2\n",
    "P_ASYMPTOMATIC = 0.85\n",
    "P_SICK_BAD = .1\n",
    "P_DEATH = .01\n",
    "# R_HEALTHY_CARRIER = 0.1\n",
    "# R_SICK = 0.1\n",
    "# R_SICK_BAD = 0.1\n",
    "# R_DEATH = 0\n",
    "DISEASE_DAYS = 28\n",
    "ASYMPTOMATIC_DAYS =14"
   ]
  },
  {
   "cell_type": "code",
   "execution_count": 66,
   "metadata": {},
   "outputs": [],
   "source": [
    "class Cluster(object):\n",
    "    def __init__(self, healthy_carrier, sick, sick_bad, dead, recovered):\n",
    "        self.healthy_carriers = [healthy_carrier]  # List<>time series ratios of healthy carriers\n",
    "        self.sicks = [sick] # List<>  (does not include sicks bad)\n",
    "        self.sicks_bad = [sick_bad]\n",
    "        self.deads = [dead]\n",
    "        self.recovereds = [recovered]"
   ]
  },
  {
   "cell_type": "code",
   "execution_count": null,
   "metadata": {},
   "outputs": [],
   "source": []
  },
  {
   "cell_type": "code",
   "execution_count": 67,
   "metadata": {},
   "outputs": [],
   "source": [
    "# closed cluster:\n",
    "class Contamination(object):\n",
    "    def __init__(self):\n",
    "        pass\n",
    "    \n",
    "    def get_healthy_carrier(self, c):\n",
    "        \"\"\"return: healthy_carrier at day n+1\"\"\"\n",
    "        # ratio of people that are contagious\n",
    "        r_contagious = c.healthy_carriers[-1] + c.sicks[-1]\n",
    "        p_contagion = r_contagious * P_CONTAGION # probability of contagion\n",
    "        \n",
    "        r_at_risk = (1 - c.healthy_carriers[-1] - c.sicks[-1] - c.sicks_bad[-1] - c.deads[-1] - c.recovereds[-1]) \n",
    "        r = r_at_risk * p_contagion + c.healthy_carriers[-1]\n",
    "        \n",
    "        if len(c.healthy_carriers) > DISEASE_DAYS:\n",
    "            r -= c.healthy_carriers[-DISEASE_DAYS]  # people recovered, yay!\n",
    "        return min(max(r,0),1)\n",
    "    \n",
    "    def get_sick(self, c):\n",
    "        r = c.sicks[-1]\n",
    "        if len(c.sicks) > DISEASE_DAYS:\n",
    "            r -= c.sicks[-DISEASE_DAYS]  # people recovered or died\n",
    "        if len(c.healthy_carriers) > ASYMPTOMATIC_DAYS:  # asymptomatic become sick\n",
    "            r += c.healthy_carriers[-ASYMPTOMATIC_DAYS] * (1- P_ASYMPTOMATIC) * (1-P_SICK_BAD)\n",
    "        return min(max(r,0),1)\n",
    "\n",
    "    def get_sick_bad(self, c):\n",
    "        r = c.sicks_bad[-1]\n",
    "        if len(c.sicks_bad) > DISEASE_DAYS:\n",
    "            r -= c.sicks_bad[-DISEASE_DAYS]  # people recovered or died\n",
    "        if len(c.healthy_carriers) > ASYMPTOMATIC_DAYS:  # asymptomatic become sick\n",
    "            r += c.healthy_carriers[-ASYMPTOMATIC_DAYS] * (1- P_ASYMPTOMATIC) * P_SICK_BAD\n",
    "        return min(max(r,0),1)\n",
    "\n",
    "    def get_dead(self, c):\n",
    "        r = c.deads[-1] + c.sicks_bad[-1] * P_DEATH\n",
    "        return min(max(r,0),1)\n",
    "    \n",
    "    def get_recovered(self, c):\n",
    "        \"\"\"Assume recovered people cannot get sick again.\"\"\"\n",
    "        r = c.recovereds[-1]\n",
    "        if len(c.sicks) > DISEASE_DAYS:\n",
    "            r += c.sicks[-DISEASE_DAYS]\n",
    "            r += c.sicks_bad[-DISEASE_DAYS] * (1-P_DEATH)\n",
    "            r += c.healthy_carriers[-DISEASE_DAYS]\n",
    "        return min(max(r,0),1)\n",
    "\n",
    "    def contaminate(self, c):\n",
    "        \"\"\"Evolution from D-Day to next day.\"\"\"\n",
    "        healthy_carrier = self.get_healthy_carrier(c)\n",
    "        sick = self.get_sick(c)\n",
    "        sick_bad = self.get_sick_bad(c)\n",
    "        dead = self.get_dead(c)\n",
    "        recovered = self.get_recovered(c)\n",
    "        \n",
    "        c.healthy_carriers.append(healthy_carrier)\n",
    "        c.sicks.append(sick)\n",
    "        c.sicks_bad.append(sick_bad)\n",
    "        c.deads.append(dead)\n",
    "        c.recovereds.append(recovered)\n",
    "        return c"
   ]
  },
  {
   "cell_type": "code",
   "execution_count": 68,
   "metadata": {},
   "outputs": [],
   "source": [
    "contamination = Contamination()\n",
    "c = Cluster(healthy_carrier=.0001, sick=0, sick_bad=0, dead=0, recovered=0)"
   ]
  },
  {
   "cell_type": "code",
   "execution_count": 69,
   "metadata": {},
   "outputs": [],
   "source": [
    "for i in range(90):\n",
    "    c = contamination.contaminate(c)"
   ]
  },
  {
   "cell_type": "code",
   "execution_count": 70,
   "metadata": {},
   "outputs": [
    {
     "data": {
      "text/plain": [
       "<matplotlib.legend.Legend at 0x7fe041161f50>"
      ]
     },
     "execution_count": 70,
     "metadata": {},
     "output_type": "execute_result"
    },
    {
     "data": {
      "image/png": "[encoded data removed]",
      "text/plain": [
       "<Figure size 432x288 with 1 Axes>"
      ]
     },
     "metadata": {
      "needs_background": "light"
     },
     "output_type": "display_data"
    }
   ],
   "source": [
    "plt.plot(c.healthy_carriers)\n",
    "plt.plot(c.sicks)\n",
    "plt.plot(c.sicks_bad)\n",
    "plt.plot(c.deads)\n",
    "plt.plot(c.recovereds)\n",
    "\n",
    "plt.ylabel(\"ratio\")\n",
    "plt.xlabel(\"days\")\n",
    "plt.legend(['Healthy Carriers', 'Sick', 'Sick (Bad)', 'Dead', 'Recovered'], loc='upper left')\n"
   ]
  },
  {
   "cell_type": "code",
   "execution_count": null,
   "metadata": {},
   "outputs": [],
   "source": []
  },
  {
   "cell_type": "code",
   "execution_count": null,
   "metadata": {},
   "outputs": [],
   "source": []
  }
 ],
 "metadata": {
  "kernelspec": {
   "display_name": "Python 3",
   "language": "python",
   "name": "python3"
  },
  "language_info": {
   "codemirror_mode": {
    "name": "ipython",
    "version": 3
   },
   "file_extension": ".py",
   "mimetype": "text/x-python",
   "name": "python",
   "nbconvert_exporter": "python",
   "pygments_lexer": "ipython3",
   "version": "3.7.6"
  }
 },
 "nbformat": 4,
 "nbformat_minor": 4
}
